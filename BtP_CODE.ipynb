{
  "nbformat": 4,
  "nbformat_minor": 0,
  "metadata": {
    "colab": {
      "provenance": []
    },
    "kernelspec": {
      "name": "python3",
      "display_name": "Python 3"
    },
    "language_info": {
      "name": "python"
    }
  },
  "cells": [
    {
      "cell_type": "code",
      "source": [
        "from google.colab import drive\n",
        "drive.mount('/content/drive')\n"
      ],
      "metadata": {
        "colab": {
          "base_uri": "https://localhost:8080/"
        },
        "id": "Exa9F4WbMCi1",
        "outputId": "cce4d9e6-5ff3-4920-f6b9-53e7e14c3c4f"
      },
      "execution_count": null,
      "outputs": [
        {
          "output_type": "stream",
          "name": "stdout",
          "text": [
            "Mounted at /content/drive\n"
          ]
        }
      ]
    },
    {
      "cell_type": "code",
      "source": [
        "import tensorflow as tf\n",
        "from tensorflow.keras.models import Sequential\n",
        "from tensorflow.keras.layers import Dense, Dropout, Flatten, GlobalAveragePooling2D\n",
        "from tensorflow.keras.applications.inception_v3 import InceptionV3\n",
        "from tensorflow.keras.preprocessing.image import ImageDataGenerator\n",
        "from tensorflow.keras.callbacks import EarlyStopping\n",
        "\n",
        "# Define constants\n",
        "IMG_WIDTH, IMG_HEIGHT = 299, 299\n",
        "BATCH_SIZE = 32\n",
        "NUM_EPOCHS = 10\n",
        "TRAIN_DIR = 'path/to/train/directory'\n",
        "VAL_DIR = 'path/to/validation/directory'\n",
        "\n",
        "# Define InceptionV3 model with pre-trained weights\n",
        "base_model = InceptionV3(weights='imagenet', include_top=False, input_shape=(IMG_WIDTH, IMG_HEIGHT, 3))\n",
        "\n",
        "# Freeze base model layers\n",
        "for layer in base_model.layers:\n",
        "    layer.trainable = False\n",
        "\n",
        "# Add top layers for classification\n",
        "model = Sequential()\n",
        "model.add(base_model)\n",
        "model.add(GlobalAveragePooling2D())\n",
        "model.add(Dense(256, activation='relu'))\n",
        "model.add(Dropout(0.5))\n",
        "model.add(Dense(1, activation='sigmoid'))\n",
        "\n",
        "# Compile model with binary crossentropy loss and Adam optimizer\n",
        "model.compile(loss='binary_crossentropy', optimizer='adam', metrics=['accuracy'])\n",
        "\n",
        "# Define data generators with data augmentation\n",
        "train_datagen = ImageDataGenerator(\n",
        "    rescale=1./255,\n",
        "    rotation_range=20,\n",
        "    width_shift_range=0.2,\n",
        "    height_shift_range=0.2,\n",
        "    shear_range=0.2,\n",
        "    zoom_range=0.2,\n",
        "    horizontal_flip=True,\n",
        "    fill_mode='nearest'\n",
        ")\n",
        "\n",
        "val_datagen = ImageDataGenerator(rescale=1./255)\n",
        "\n",
        "train_generator = train_datagen.flow_from_directory(\n",
        "    \"/content/drive/MyDrive/dataset1\",\n",
        "    target_size=(IMG_WIDTH, IMG_HEIGHT),\n",
        "    batch_size=BATCH_SIZE,\n",
        "    class_mode='binary'\n",
        ")\n",
        "\n",
        "val_generator = val_datagen.flow_from_directory(\n",
        "    \"/content/drive/MyDrive/dataset2\",\n",
        "    target_size=(IMG_WIDTH, IMG_HEIGHT),\n",
        "    batch_size=BATCH_SIZE,\n",
        "    class_mode='binary'\n",
        ")\n",
        "\n",
        "# Use early stopping to prevent overfitting\n",
        "early_stop = EarlyStopping(patience=3, verbose=1)\n",
        "\n",
        "# Train model\n",
        "history = model.fit(\n",
        "    train_generator,\n",
        "    steps_per_epoch=train_generator.samples // BATCH_SIZE,\n",
        "    epochs=NUM_EPOCHS,\n",
        "    validation_data=val_generator,\n",
        "    validation_steps=val_generator.samples // BATCH_SIZE,\n",
        "    callbacks=[early_stop]\n",
        ")\n",
        "\n",
        "# Save trained model\n",
        "model.save('signature_verification_model.h5')\n"
      ],
      "metadata": {
        "colab": {
          "base_uri": "https://localhost:8080/"
        },
        "id": "BhIYY_zIR0ju",
        "outputId": "a3d34d88-71fe-41a8-d189-6519ec1865d0"
      },
      "execution_count": null,
      "outputs": [
        {
          "output_type": "stream",
          "name": "stdout",
          "text": [
            "Downloading data from https://storage.googleapis.com/tensorflow/keras-applications/inception_v3/inception_v3_weights_tf_dim_ordering_tf_kernels_notop.h5\n",
            "87910968/87910968 [==============================] - 1s 0us/step\n",
            "Found 120 images belonging to 2 classes.\n",
            "Found 120 images belonging to 2 classes.\n",
            "Epoch 1/10\n",
            "3/3 [==============================] - 87s 36s/step - loss: 0.9068 - accuracy: 0.5417 - val_loss: 1.4043 - val_accuracy: 0.5104\n",
            "Epoch 2/10\n",
            "3/3 [==============================] - 67s 28s/step - loss: 0.8990 - accuracy: 0.5568 - val_loss: 0.6798 - val_accuracy: 0.5833\n",
            "Epoch 3/10\n",
            "3/3 [==============================] - 50s 21s/step - loss: 0.7564 - accuracy: 0.5795 - val_loss: 0.6614 - val_accuracy: 0.6458\n",
            "Epoch 4/10\n",
            "3/3 [==============================] - 65s 28s/step - loss: 0.6166 - accuracy: 0.6477 - val_loss: 0.6805 - val_accuracy: 0.6354\n",
            "Epoch 5/10\n",
            "3/3 [==============================] - 69s 29s/step - loss: 0.6596 - accuracy: 0.6875 - val_loss: 0.8300 - val_accuracy: 0.5208\n",
            "Epoch 6/10\n",
            "3/3 [==============================] - 67s 28s/step - loss: 0.6326 - accuracy: 0.6250 - val_loss: 0.6213 - val_accuracy: 0.6458\n",
            "Epoch 7/10\n",
            "3/3 [==============================] - 67s 30s/step - loss: 0.6125 - accuracy: 0.6818 - val_loss: 0.5788 - val_accuracy: 0.6667\n",
            "Epoch 8/10\n",
            "3/3 [==============================] - 65s 28s/step - loss: 0.5580 - accuracy: 0.7386 - val_loss: 0.6162 - val_accuracy: 0.6875\n",
            "Epoch 9/10\n",
            "3/3 [==============================] - 66s 28s/step - loss: 0.5896 - accuracy: 0.6818 - val_loss: 0.6315 - val_accuracy: 0.6458\n",
            "Epoch 10/10\n",
            "3/3 [==============================] - 67s 29s/step - loss: 0.5928 - accuracy: 0.7386 - val_loss: 0.5973 - val_accuracy: 0.6250\n",
            "Epoch 10: early stopping\n"
          ]
        }
      ]
    },
    {
      "cell_type": "code",
      "source": [
        "from tensorflow.keras.models import load_model\n",
        "from tensorflow.keras.preprocessing import image\n",
        "import numpy as np\n",
        "\n",
        "# Load trained model\n",
        "model = load_model('signature_verification_model.h5')\n",
        "\n",
        "# Define constants\n",
        "IMG_WIDTH, IMG_HEIGHT = 299, 299\n",
        "\n",
        "# Load test image and preprocess it\n",
        "test_image = image.load_img('/content/drive/MyDrive/dataset2/real/00102001.png', target_size=(IMG_WIDTH, IMG_HEIGHT))\n",
        "test_image = image.img_to_array(test_image)\n",
        "test_image = np.expand_dims(test_image, axis=0)\n",
        "test_image = test_image/255.0\n",
        "\n",
        "# Predict class probability\n",
        "class_prob = model.predict(test_image)\n",
        "\n",
        "# Print prediction\n",
        "if class_prob > 0.5:\n",
        "    print('The signature is genuine with probability', class_prob[0][0])\n",
        "else:\n",
        "    print('The signature is forged with probability', 1 - class_prob[0][0])\n"
      ],
      "metadata": {
        "colab": {
          "base_uri": "https://localhost:8080/"
        },
        "id": "OL-ayo0WSLHU",
        "outputId": "c27d3f27-76db-4075-ca0f-3b702f12a1d6"
      },
      "execution_count": null,
      "outputs": [
        {
          "output_type": "stream",
          "name": "stdout",
          "text": [
            "1/1 [==============================] - 2s 2s/step\n",
            "The signature is forged with probability 0.5729008316993713\n"
          ]
        }
      ]
    }
  ]
}